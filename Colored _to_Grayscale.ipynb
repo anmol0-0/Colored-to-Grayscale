{
 "cells": [
  {
   "cell_type": "code",
   "execution_count": 1,
   "metadata": {},
   "outputs": [
    {
     "name": "stdout",
     "output_type": "stream",
     "text": [
      "Running on local URL:  http://127.0.0.1:7862\n",
      "Running on public URL: https://6cb0dae525d69dee80.gradio.live\n",
      "\n",
      "This share link expires in 72 hours. For free permanent hosting and GPU upgrades, run `gradio deploy` from Terminal to deploy to Spaces (https://huggingface.co/spaces)\n"
     ]
    },
    {
     "data": {
      "text/html": [
       "<div><iframe src=\"https://6cb0dae525d69dee80.gradio.live\" width=\"100%\" height=\"500\" allow=\"autoplay; camera; microphone; clipboard-read; clipboard-write;\" frameborder=\"0\" allowfullscreen></iframe></div>"
      ],
      "text/plain": [
       "<IPython.core.display.HTML object>"
      ]
     },
     "metadata": {},
     "output_type": "display_data"
    },
    {
     "data": {
      "text/plain": []
     },
     "execution_count": 1,
     "metadata": {},
     "output_type": "execute_result"
    }
   ],
   "source": [
    "import cv2\n",
    "import numpy as np\n",
    "import gradio as gr\n",
    "from PIL import Image\n",
    "\n",
    "def read_image(impath: str) -> np.ndarray:\n",
    "    raw_image = cv2.imread(impath)\n",
    "    return raw_image\n",
    "\n",
    "def convert_to_grayscale(color_img: np.ndarray) -> np.ndarray:\n",
    "    gray_img = cv2.cvtColor(color_img, cv2.COLOR_RGB2GRAY)\n",
    "    return gray_img\n",
    "\n",
    "def convert_image_to_grayscale(input_image):\n",
    "    # Convert Gradio Image to numpy array\n",
    "    input_np = np.array(input_image)\n",
    "\n",
    "    # Perform grayscale conversion using your function\n",
    "    grayscale_img = convert_to_grayscale(input_np)\n",
    "\n",
    "    # Convert the result back to Gradio-compatible format (PIL Image)\n",
    "    result_pil = Image.fromarray(grayscale_img)\n",
    "\n",
    "    return result_pil\n",
    "\n",
    "# Create Gradio Interface\n",
    "iface = gr.Interface(\n",
    "    fn=convert_image_to_grayscale,\n",
    "    inputs=gr.Image(),\n",
    "    outputs=gr.Image(),\n",
    "    live=True,\n",
    "    title=\"Colored to Grayscale Conversion\",\n",
    "    description=\"Click image icon, select colored image, AI converts to grayscale, download result.\",\n",
    "    theme=\"gradio/monochrome\"\n",
    ")\n",
    "\n",
    "# Deploy the Gradio interface as a web app\n",
    "iface.launch(share=True)\n"
   ]
  }
 ],
 "metadata": {
  "kernelspec": {
   "display_name": "Python 3",
   "language": "python",
   "name": "python3"
  },
  "language_info": {
   "codemirror_mode": {
    "name": "ipython",
    "version": 3
   },
   "file_extension": ".py",
   "mimetype": "text/x-python",
   "name": "python",
   "nbconvert_exporter": "python",
   "pygments_lexer": "ipython3",
   "version": "3.11.7"
  }
 },
 "nbformat": 4,
 "nbformat_minor": 2
}
